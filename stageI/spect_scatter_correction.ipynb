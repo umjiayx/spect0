{
  "cells": [
    {
      "cell_type": "markdown",
      "metadata": {
        "id": "9XULA1ey5LqR"
      },
      "source": [
        "# Prepare"
      ]
    },
    {
      "cell_type": "code",
      "execution_count": null,
      "metadata": {
        "colab": {
          "base_uri": "https://localhost:8080/"
        },
        "id": "K-8m0_w95BO_",
        "outputId": "9b6c77b8-66a3-4b92-b625-d697bc24387c"
      },
      "outputs": [
        {
          "name": "stdout",
          "output_type": "stream",
          "text": [
            "Mounted at /content/drive\n"
          ]
        }
      ],
      "source": [
        "from google.colab import drive\n",
        "drive.mount(\"/content/drive\")"
      ]
    },
    {
      "cell_type": "code",
      "execution_count": null,
      "metadata": {
        "colab": {
          "base_uri": "https://localhost:8080/"
        },
        "id": "CqPrSal05YIX",
        "outputId": "ff8b0743-5ab0-4347-f48d-9dfb98b1673c"
      },
      "outputs": [
        {
          "name": "stdout",
          "output_type": "stream",
          "text": [
            "['dataset', 'best_checkpoint.pth', 'SPECT_SC_best_checkpoint.pth', 'download', 'download_new', '.ipynb_checkpoints', 'HW_CNN_best_checkpoint.pth', 'spect_scatter_correction_y90.ipynb']\n"
          ]
        }
      ],
      "source": [
        "import os\n",
        "import sys\n",
        "\n",
        "GOOGLE_DRIVE_PATH_AFTER_MY_DRIVE = \"scatter_correction_y90\"\n",
        "GOOGLE_DRIVE_PATH = os.path.join(\"drive\", \"My Drive\", GOOGLE_DRIVE_PATH_AFTER_MY_DRIVE)\n",
        "\n",
        "# You should see your files in the working directory printed\n",
        "print(os.listdir(GOOGLE_DRIVE_PATH))\n",
        "\n",
        "# Add to sys so that we can import your dataset easily.\n",
        "sys.path.append(GOOGLE_DRIVE_PATH)"
      ]
    },
    {
      "cell_type": "code",
      "execution_count": null,
      "metadata": {
        "id": "crHInz4w5lKh"
      },
      "outputs": [],
      "source": [
        "# Import libraries\n",
        "import torch\n",
        "import numpy as np\n",
        "import matplotlib.pyplot as plt\n",
        "import scipy.io as sio\n",
        "import glob\n",
        "from torch.utils.data import TensorDataset, DataLoader\n",
        "from torchsummary import summary\n",
        "import tqdm\n",
        "from tqdm import tqdm_notebook\n",
        "import time\n",
        "import torch.nn.functional as F\n",
        "import math\n",
        "\n",
        "# Define global variables\n",
        "SCALE_CONSTANT = 1e6\n",
        "IND_NOR = True\n",
        "Nx = 128 # Size of x axis\n",
        "Ny_sim = 128 # Size of y axis for SIMIND\n",
        "Ny_mea = 80 # Size of y axis for measurement\n",
        "N_view = 128 # Number of views\n",
        "Np_60 = 60\n",
        "Ny_cat = 160\n",
        "plt.rcParams[\"figure.figsize\"] = (15.0, 10.0)"
      ]
    },
    {
      "cell_type": "code",
      "execution_count": null,
      "metadata": {
        "colab": {
          "base_uri": "https://localhost:8080/"
        },
        "id": "8XBhVcXV5ubi",
        "outputId": "02687c32-1940-4acf-b96a-abc16e3b8089"
      },
      "outputs": [
        {
          "name": "stdout",
          "output_type": "stream",
          "text": [
            "Good to go!\n"
          ]
        }
      ],
      "source": [
        "if torch.cuda.is_available():\n",
        "    print(\"Good to go!\")\n",
        "    DEVICE = torch.device(\"cuda\")\n",
        "else:\n",
        "    print(\"Please set GPU via Edit -> Notebook Settings.\")\n",
        "    DEVICE = torch.device(\"cpu\")"
      ]
    },
    {
      "cell_type": "markdown",
      "metadata": {
        "id": "JpXGT4es6qwR"
      },
      "source": [
        "# Previous implementation (HW_CNN)"
      ]
    },
    {
      "cell_type": "code",
      "execution_count": null,
      "metadata": {
        "id": "gdonsZ1S6zNJ"
      },
      "outputs": [],
      "source": [
        "class HW_CNN(torch.nn.Module):\n",
        "    def __init__(self):\n",
        "        super(HW_CNN, self).__init__()\n",
        "        self.convA1 = torch.nn.Conv2d(in_channels=1, out_channels=32, kernel_size=3, padding='same', device=DEVICE)\n",
        "        self.convA2 = torch.nn.Conv2d(in_channels=32, out_channels=64, kernel_size=3, padding='same', device=DEVICE)\n",
        "        self.convA3 = torch.nn.Conv2d(in_channels=64, out_channels=128, kernel_size=3, padding='same', device=DEVICE)\n",
        "\n",
        "        self.convB1 = torch.nn.Conv2d(in_channels=1, out_channels=32, kernel_size=3, padding='same', device=DEVICE)\n",
        "        self.convB2 = torch.nn.Conv2d(in_channels=32, out_channels=64, kernel_size=3, padding='same', device=DEVICE)\n",
        "        self.convB3 = torch.nn.Conv2d(in_channels=64, out_channels=128, kernel_size=3, padding='same', device=DEVICE)\n",
        "\n",
        "        self.relu = torch.nn.ReLU()\n",
        "\n",
        "        self.conv2 = torch.nn.Conv2d(in_channels=256, out_channels=128, kernel_size=3, padding='same', device=DEVICE)\n",
        "        self.conv3 = torch.nn.Conv2d(in_channels=128, out_channels=64, kernel_size=3, padding='same', device=DEVICE)\n",
        "        self.conv4 = torch.nn.Conv2d(in_channels=64, out_channels=32, kernel_size=3, padding='same', device=DEVICE)\n",
        "        self.conv5 = torch.nn.Conv2d(in_channels=32, out_channels=1, kernel_size=1, padding='same', device=DEVICE)\n",
        "\n",
        "    def forward(self, proj_mu, spect_proj):\n",
        "        proj_mu_ = self.convA1(proj_mu)\n",
        "        proj_mu_ = self.relu(proj_mu_)\n",
        "        proj_mu_ = self.convA2(proj_mu_)\n",
        "        proj_mu_ = self.relu(proj_mu_)\n",
        "        proj_mu_ = self.convA3(proj_mu_)\n",
        "        proj_mu_ = self.relu(proj_mu_)\n",
        "\n",
        "        spect_proj_ = self.convB1(spect_proj)\n",
        "        spect_proj_ = self.relu(spect_proj_)\n",
        "        spect_proj_ = self.convB2(spect_proj_)\n",
        "        spect_proj_ = self.relu(spect_proj_)\n",
        "        spect_proj_ = self.convB3(spect_proj_)\n",
        "        spect_proj_ = self.relu(spect_proj_)\n",
        "\n",
        "        out = torch.cat([spect_proj_, proj_mu_], dim=1)\n",
        "        out = self.relu(self.conv2(out))\n",
        "        out = self.relu(self.conv3(out))\n",
        "        out = self.relu(self.conv4(out))\n",
        "        out = self.relu(self.conv5(out))\n",
        "\n",
        "        return out"
      ]
    },
    {
      "cell_type": "code",
      "execution_count": null,
      "metadata": {
        "id": "ZKYmEdKD663T"
      },
      "outputs": [],
      "source": [
        "class SPECT_DATASET_NON_UNIF():\n",
        "    def __init__(self):\n",
        "        self.train_mu = None\n",
        "        self.train_tot = None\n",
        "        self.train_sca = None\n",
        "        self.train_pri = None\n",
        "        self.train_concat = None\n",
        "\n",
        "        self.test_mu = None\n",
        "        self.test_tot = None\n",
        "        self.test_sca = None\n",
        "        self.test_pri = None\n",
        "        self.test_concat = None\n",
        "\n",
        "        self.N_train = None\n",
        "        self.N_test = None\n",
        "\n",
        "    def load_data(self, train_file_path, test_file_path):\n",
        "        train_file_names = glob.glob(train_file_path)\n",
        "        test_file_names = glob.glob(test_file_path)\n",
        "        self.N_train = len(train_file_names)\n",
        "        self.N_test = len(test_file_names)\n",
        "\n",
        "        self.train_mu = torch.zeros((Nx, Ny_mea, N_view, self.N_train)).to(DEVICE)  # 128* 80*128*5\n",
        "        self.train_tot = torch.zeros((Nx, Ny_mea, N_view, self.N_train)).to(DEVICE) # 128* 80*128*5\n",
        "        self.train_sca = torch.zeros((Nx, Ny_mea, N_view, self.N_train)).to(DEVICE) # 128* 80*128*5\n",
        "        # self.train_pri = torch.zeros((Nx, Ny_sim, N_view, self.N_train)).to(DEVICE) # 128*128*128*8\n",
        "\n",
        "        self.test_mu = torch.zeros((Nx, Ny_mea, N_view, self.N_test)).to(DEVICE)  # 128* 80*128*?\n",
        "        self.test_tot = torch.zeros((Nx, Ny_mea, N_view, self.N_test)).to(DEVICE) # 128* 80*128*?\n",
        "        self.test_sca = torch.zeros((Nx, Ny_mea, N_view, self.N_test)).to(DEVICE) # 128* 80*128*?\n",
        "        # self.test_pri = torch.zeros((Nx, Ny_mea, N_view, self.N_test)).to(DEVICE) # 128* 80*128*6\n",
        "\n",
        "        print(\"---Training data loading---\")\n",
        "        for i in range(self.N_train):\n",
        "            train_data = sio.loadmat(train_file_names[i])\n",
        "            tot = torch.from_numpy(train_data[\"tot\"])\n",
        "            sca = torch.from_numpy(train_data[\"sca\"])\n",
        "            proj_mu = torch.from_numpy(train_data[\"proj_mu\"])\n",
        "            self.train_mu[:,:,:,i] = proj_mu\n",
        "            self.train_tot[:,:,:,i] = tot[:,24:104,:]\n",
        "            self.train_sca[:,:,:,i] = sca[:,24:104,:]\n",
        "            print(i+1, train_file_names[i])\n",
        "        print()\n",
        "\n",
        "        print(\"---Test data loading---\")\n",
        "        for i in range(self.N_test):\n",
        "            test_data = sio.loadmat(test_file_names[i])\n",
        "            tot = torch.from_numpy(test_data[\"tot\"])\n",
        "            sca = torch.from_numpy(test_data[\"sca\"])\n",
        "            proj_mu = torch.from_numpy(test_data[\"proj_mu\"])\n",
        "            self.test_mu[:,:,:,i] = proj_mu\n",
        "            self.test_tot[:,:,:,i] = tot[:,24:104,:]\n",
        "            self.test_sca[:,:,:,i] = sca[:,24:104,:]\n",
        "            print(i+1, test_file_names[i])\n",
        "        print()\n",
        "\n",
        "    def print_dataset_info(self, str):\n",
        "        print(\"---Dataset \" + str + \" info printing---\")\n",
        "        print(\"train_mu.shape:\", self.train_mu.shape)\n",
        "        print(\"train_tot.shape:\", self.train_tot.shape)\n",
        "        print(\"train_sca.shape:\", self.train_sca.shape)\n",
        "\n",
        "        print(\"test_mu.shape:\", self.test_mu.shape)\n",
        "        print(\"test_tot.shape:\", self.test_tot.shape)\n",
        "        print(\"test_sca.shape:\", self.test_sca.shape)\n",
        "        print()\n",
        "\n",
        "    def scale_dataset(self):\n",
        "        # Scale training/test data to make simulated and measured data consistent\n",
        "        print(\"---Scaling dataset---\")\n",
        "        self.train_sca = SCALE_CONSTANT * self.train_sca / (torch.sum(self.train_tot, dim=[0,1,2])[None, None, None, :])\n",
        "        self.train_tot = SCALE_CONSTANT * self.train_tot / (torch.sum(self.train_tot, dim=[0,1,2])[None, None, None, :])\n",
        "        self.train_mu = self.train_mu\n",
        "\n",
        "        self.test_sca = SCALE_CONSTANT * self.test_sca / (torch.sum(self.test_tot, dim=[0,1,2])[None, None, None, :])\n",
        "        self.test_tot = SCALE_CONSTANT * self.test_tot / (torch.sum(self.test_tot, dim=[0,1,2])[None, None, None, :])\n",
        "        self.test_mu = self.test_mu\n",
        "        print()\n",
        "\n",
        "    def reshape_dataset(self):\n",
        "        self.train_tot = torch.reshape(self.train_tot, [Nx, Ny_mea, N_view * self.N_train])\n",
        "        self.train_tot = torch.permute(self.train_tot, [2, 0, 1])[:,None,:,:] # (128*N_train, 1, 128, 80)\n",
        "        self.train_sca = torch.reshape(self.train_sca, [Nx, Ny_mea, N_view * self.N_train])\n",
        "        self.train_sca = torch.permute(self.train_sca, [2, 0, 1])[:,None,:,:] # (128*N_train, 1, 128, 80)\n",
        "        self.train_mu = torch.reshape(self.train_mu, [Nx, Ny_mea, N_view * self.N_train])\n",
        "        self.train_mu = torch.permute(self.train_mu, [2, 0, 1])[:,None,:,:] # (128*N_train, 1, 128, 80)\n",
        "\n",
        "        self.test_tot = torch.reshape(self.test_tot, [Nx, Ny_mea, N_view * self.N_test])\n",
        "        self.test_tot = torch.permute(self.test_tot, [2, 0, 1])[:,None,:,:] # (128*N_test, 1, 128, 80)\n",
        "        self.test_sca = torch.reshape(self.test_sca, [Nx, Ny_mea, N_view * self.N_test])\n",
        "        self.test_sca = torch.permute(self.test_sca, [2, 0, 1])[:,None,:,:] # (128*N_test, 1, 128, 80)\n",
        "        self.test_mu = torch.reshape(self.test_mu, [Nx, Ny_mea, N_view * self.N_test])\n",
        "        self.test_mu = torch.permute(self.test_mu, [2, 0, 1])[:,None,:,:] # (128*N_test, 1, 128, 80)\n",
        "\n",
        "    def data_preprocess(self, train_file_path, test_file_path):\n",
        "        self.load_data(train_file_path, test_file_path)\n",
        "        self.print_dataset_info(\"(raw)\")\n",
        "        self.scale_dataset()\n",
        "        self.reshape_dataset()\n",
        "        self.print_dataset_info(\"(processed)\")\n",
        "\n",
        "    def plot_projection_train(self, k=9):\n",
        "        plt.style.use(\"default\")\n",
        "        fig, (ax1, ax2,ax3) = plt.subplots(ncols=3, figsize=(15, 10))\n",
        "        im1 = ax1.imshow(np.transpose(self.train_sca[k,0,:,:].cpu()), cmap = 'jet', vmin = 0, vmax = torch.max(self.train_tot[k,0,:,:]))\n",
        "        ax1.set_title('Scatter',fontsize = 20)\n",
        "\n",
        "        im2 = ax2.imshow(np.transpose(self.train_tot[k,0,:,:].cpu()), cmap = 'jet', vmin = 0, vmax = torch.max(self.train_tot[k,0,:,:]))\n",
        "        ax2.set_title('Total', fontsize = 20)\n",
        "\n",
        "        im3 = ax3.imshow(np.transpose(self.train_mu[k,0,:,:].cpu()), cmap = 'jet', vmin = 0, vmax = torch.max(self.train_mu[k,0,:,:]))\n",
        "        ax3.set_title('mu-map', fontsize = 20)\n",
        "\n",
        "        fig.subplots_adjust(right=0.8)\n",
        "        cbar_ax = fig.add_axes([0.85, 0.35, 0.03, 0.3])\n",
        "        fig.colorbar(im2, cax=cbar_ax)\n",
        "\n",
        "    def plot_projection_test(self, k=80):\n",
        "        plt.style.use(\"default\")\n",
        "        fig, (ax1, ax2, ax3) = plt.subplots(ncols=3, figsize=(15, 10))\n",
        "        im1 = ax1.imshow(np.transpose(self.test_sca[k,0,:,:].cpu()), cmap = 'jet', vmin = 0, vmax = torch.max(self.test_tot[k,0,:,:]))\n",
        "        ax1.set_title('Scatter',fontsize = 20)\n",
        "\n",
        "        im2 = ax2.imshow(np.transpose(self.test_tot[k,0,:,:].cpu()), cmap = 'jet', vmin = 0, vmax = torch.max(self.test_tot[k,0,:,:]))\n",
        "        ax2.set_title('Total', fontsize = 20)\n",
        "\n",
        "        im3 = ax3.imshow(np.transpose(self.test_mu[k,0,:,:].cpu()), cmap = 'jet', vmin = 0, vmax = torch.max(self.test_mu[k,0,:,:]))\n",
        "        ax3.set_title('mu-map', fontsize = 20)\n",
        "\n",
        "        fig.subplots_adjust(right=0.8)\n",
        "        cbar_ax = fig.add_axes([0.85, 0.35, 0.03, 0.3])\n",
        "        fig.colorbar(im2, cax=cbar_ax)"
      ]
    },
    {
      "cell_type": "code",
      "execution_count": null,
      "metadata": {
        "id": "k_hpDKjl8371"
      },
      "outputs": [],
      "source": [
        "class SPECT_CNN_SC_HW():\n",
        "    def __init__(self, Epoch=800, batch_size=32, learning_rate=1e-4):\n",
        "        self.model = HW_CNN()\n",
        "        self.num_epoch = Epoch\n",
        "        self.batch_size = batch_size\n",
        "        self.num_train = 640 # using 5 images for training\n",
        "        self.lr = learning_rate\n",
        "        self.training_loss_history = []\n",
        "        self.val_loss_history = []\n",
        "        self.mse_test_ls = []\n",
        "        self.num_val = None # using 1 or 2 image(s) for testing\n",
        "\n",
        "    def model_initialize(self):\n",
        "        self.model = HW_CNN()\n",
        "        for p in self.model.parameters():\n",
        "            torch.nn.init.normal_(p,std=0.1)\n",
        "\n",
        "    def save_checkpoint(self, state):\n",
        "        best_file_path = os.path.join(GOOGLE_DRIVE_PATH, 'HW_CNN_best_checkpoint.pth')\n",
        "        torch.save(state, best_file_path)\n",
        "\n",
        "    def train(self, s):\n",
        "        torch.manual_seed(2022)\n",
        "        self.model_initialize() # Initialize a new model\n",
        "        self.num_val = s.train_tot.size(0) - self.num_train\n",
        "        train_loader = DataLoader(TensorDataset(s.train_mu[idx_train,:,:,:],\n",
        "                                                s.train_tot[idx_train,:,:,:],\n",
        "                                                s.train_sca[idx_train,:,:,:]),\n",
        "                                  batch_size=self.batch_size, shuffle=False)\n",
        "\n",
        "        val_loader = DataLoader(TensorDataset(s.train_mu[idx_val,:,:,:],\n",
        "                                              s.train_tot[idx_val,:,:,:],\n",
        "                                              s.train_sca[idx_val,:,:,:]),\n",
        "                                batch_size=self.batch_size, shuffle=False)\n",
        "\n",
        "        optimizer = torch.optim.Adam(self.model.parameters(), lr=self.lr)\n",
        "\n",
        "        # Clear the history\n",
        "        self.training_loss_history = []\n",
        "        self.val_loss_history = []\n",
        "\n",
        "        start_time = time.time()\n",
        "        best_val_loss = np.inf\n",
        "\n",
        "        for epoch in tqdm.tqdm_notebook(range(self.num_epoch)):\n",
        "            training_loss_acc = 0\n",
        "            val_loss_acc = 0\n",
        "\n",
        "            for _, training_data in enumerate(train_loader,0):\n",
        "                mu_batch, tot_batch, sca_batch = training_data\n",
        "                sca_pred = self.model(mu_batch, tot_batch)\n",
        "                optimizer.zero_grad()\n",
        "                loss = torch.nn.functional.mse_loss(sca_pred, sca_batch)\n",
        "                loss.backward()\n",
        "                optimizer.step()\n",
        "                training_loss_acc += loss.detach().item()\n",
        "\n",
        "            self.training_loss_history.append(math.sqrt(training_loss_acc) / self.num_train)\n",
        "\n",
        "            with torch.no_grad():\n",
        "                for _, val_data in enumerate(val_loader,0):\n",
        "                    mu_batch_val, tot_batch_val, sca_batch_val = val_data\n",
        "                    sca_pred_val = self.model(mu_batch_val, tot_batch_val)\n",
        "                    loss_val = torch.nn.functional.mse_loss(sca_pred_val, sca_batch_val)\n",
        "                    val_loss_acc += loss_val.item()\n",
        "\n",
        "            self.val_loss_history.append(math.sqrt(val_loss_acc) / self.num_val)\n",
        "\n",
        "            print(\"Epoch {}, training loss {:3f}, val loss {:3f}\".format(epoch+1, self.training_loss_history[-1], self.val_loss_history[-1]), end=' ')\n",
        "\n",
        "            if self.val_loss_history[-1] < best_val_loss:\n",
        "                # save this model!\n",
        "                print(\" Oh! Best validation performance! Save the current model!\")\n",
        "                self.save_checkpoint(self.model.state_dict())\n",
        "                best_val_loss = self.val_loss_history[-1]\n",
        "            else:\n",
        "                print()\n",
        "\n",
        "        end_time = time.time()\n",
        "        total_time = end_time - start_time\n",
        "        print(\"Total time used: {:3f} s\".format(total_time))\n",
        "\n",
        "    def save_model(self, isUniform:bool):\n",
        "        if isUniform:\n",
        "            save_PATH = os.path.join(GOOGLE_DRIVE_PATH, 'SPECT_SC_CNN_UNIFORM_HW.pth')\n",
        "            torch.save(self.model.state_dict(), save_PATH)\n",
        "        else:\n",
        "            save_PATH = os.path.join(GOOGLE_DRIVE_PATH, 'SPECT_SC_CNN_NON_UNIFORM_HW.pth')\n",
        "            torch.save(self.model.state_dict(), save_PATH)\n",
        "\n",
        "    def load_model(self, file_name:str):\n",
        "        if file_name in os.listdir(GOOGLE_DRIVE_PATH):\n",
        "            load_PATH = os.path.join(GOOGLE_DRIVE_PATH, file_name)\n",
        "            self.model.load_state_dict(torch.load(load_PATH))\n",
        "        else:\n",
        "            print(\"Model not found!\")\n",
        "\n",
        "    '''\n",
        "    def plot_learning_curve(self, num_crop=15):\n",
        "        # Crop the first several huge loss for better view\n",
        "        N_step = int(self.num_train / self.num_val)\n",
        "        training_loss_history_crop = self.training_loss_history[0:-1:N_step][num_crop:]\n",
        "        val_loss_history_crop = self.val_loss_history[0:-1][num_crop:]\n",
        "        x_t = range(len(training_loss_history_crop))\n",
        "        x_v = range(len(val_loss_history_crop))\n",
        "\n",
        "        plt.plot(x_t, training_loss_history_crop, label=\"training loss\")\n",
        "        plt.plot(x_v, val_loss_history_crop, label=\"validation loss\")\n",
        "        plt.legend(['Training_loss', 'Validation_loss'])\n",
        "\n",
        "        # plt.close()\n",
        "    '''\n",
        "\n",
        "    def run_test(self, s):\n",
        "        '''\n",
        "        Return predicted scatter for the whole test dataset.\n",
        "        '''\n",
        "        test_loader = DataLoader(TensorDataset(s.test_mu, s.test_tot, s.test_sca),\n",
        "                                 batch_size=self.batch_size)\n",
        "\n",
        "        # A dummy initializer, to be removed in the end\n",
        "        sca_pred_CNN = torch.ones(1,1,128,80).to(DEVICE)\n",
        "\n",
        "        with torch.no_grad():\n",
        "            for _, test_data in enumerate(test_loader,0):\n",
        "                mu_batch, tot_batch, sca_batch = test_data\n",
        "                sca_pred = self.model(mu_batch, tot_batch) # B * 1 * 128 * 80\n",
        "                sca_pred_CNN = torch.cat([sca_pred_CNN, sca_pred], dim=0)\n",
        "\n",
        "                mse_test = torch.nn.functional.mse_loss(sca_pred, sca_batch)\n",
        "                self.mse_test_ls.append(mse_test.item())\n",
        "\n",
        "            # (K*B+1) * 1 * 128 * 80 -> (K*B) * 1 * 128 * 80 i.e. N_test * 1 * 128 * 80\n",
        "            sca_pred_CNN = sca_pred_CNN[1:,:,:,:]\n",
        "        return sca_pred_CNN\n",
        "\n",
        "    def plot_projection_test(self, x:torch.Tensor(), s, k:int):\n",
        "        \"\"\"\n",
        "        Plots scatter patterns of the certain TEST case.\n",
        "\n",
        "            Parameters:\n",
        "                x (torch.Tensor()): The reshaped output of the CNN. (2D)\n",
        "                s (SPECT_DATASET()): The object that contains the original data.\n",
        "                k (int): The number of the test data slice.\n",
        "        \"\"\"\n",
        "        plt.style.use(\"default\")\n",
        "        fig, (ax1, ax2, ax3) = plt.subplots(ncols=3, figsize=(15, 10))\n",
        "        im1 = ax1.imshow(np.transpose(x.cpu()), cmap='jet', vmin=0, vmax=torch.max(s.test_tot[k,0,:,:]))\n",
        "        ax1.set_title('CNN Scatter',fontsize=20)\n",
        "\n",
        "        im2 = ax2.imshow(np.transpose(s.test_sca[k,0,:,:].cpu()), cmap='jet', vmin=0, vmax=torch.max(s.test_tot[k,0,:,:]))\n",
        "        ax2.set_title('True Scatter', fontsize=20)\n",
        "\n",
        "        im3 = ax3.imshow(np.transpose(s.test_tot[k,0,:,:].cpu()), cmap='jet', vmin=0, vmax=torch.max(s.test_tot[k,0,:,:]))\n",
        "        ax3.set_title('Total', fontsize=20)\n",
        "\n",
        "        fig.subplots_adjust(right=0.8)\n",
        "        cbar_ax = fig.add_axes([0.85, 0.35, 0.03, 0.3])\n",
        "        fig.colorbar(im1, cax=cbar_ax)\n",
        "\n",
        "    def test_and_plot_k(self, s, k:int):\n",
        "        \"\"\"\n",
        "        Predict the CNN scatter with the trained model and make a plot.\n",
        "\n",
        "            Parameters:\n",
        "                s (SPECT_DATASET()): The object that contains the original data.\n",
        "                k (int): The number of the test data slice.\n",
        "        \"\"\"\n",
        "        with torch.no_grad():\n",
        "            test_img = self.model(s.test_mu[k,:,:,:][None,:,:,:], s.test_tot[k,:,:,:][None,:,:,:])\n",
        "\n",
        "        self.plot_projection_test(test_img[0,0,:,:], s, k)\n"
      ]
    },
    {
      "cell_type": "code",
      "execution_count": null,
      "metadata": {
        "colab": {
          "base_uri": "https://localhost:8080/"
        },
        "id": "nX2owAATCViB",
        "outputId": "f4070a34-6ab9-45e7-cc27-c35f414b9798"
      },
      "outputs": [],
      "source": [
        "train_file_path = os.path.join(GOOGLE_DRIVE_PATH, 'dataset/train/*.mat')\n",
        "test_file_path = os.path.join(GOOGLE_DRIVE_PATH, 'dataset/test_real_patient_2/*.mat')\n",
        "\n",
        "s_0 = SPECT_DATASET_NON_UNIF()\n",
        "s_0.data_preprocess(train_file_path, test_file_path)\n",
        "\n",
        "spect_cnn_sc_hw = SPECT_CNN_SC_HW()"
      ]
    },
    {
      "cell_type": "code",
      "execution_count": null,
      "metadata": {
        "id": "vWcRR2ezJpKX"
      },
      "outputs": [],
      "source": [
        "# spect_cnn_sc_hw = SPECT_CNN_SC_HW()\n",
        "# spect_cnn_sc_hw.train(s_0)"
      ]
    },
    {
      "cell_type": "code",
      "execution_count": null,
      "metadata": {
        "id": "pGRCZcvgWhNU"
      },
      "outputs": [],
      "source": [
        "# train_ls = spect_cnn_sc_hw.training_loss_history\n",
        "# val_ls = spect_cnn_sc_hw.val_loss_history\n",
        "# plt.plot(range(len(train_ls)), train_ls)\n",
        "# plt.plot(range(len(train_ls)), val_ls)"
      ]
    },
    {
      "cell_type": "code",
      "execution_count": null,
      "metadata": {
        "id": "RzUQt_3gNTE6"
      },
      "outputs": [],
      "source": [
        "# s_1 = SPECT_CNN_SC_HW()\n",
        "# s_1.load_model('best_checkpoint.pth')"
      ]
    },
    {
      "cell_type": "markdown",
      "metadata": {
        "id": "gVtlP4UyjrGC"
      },
      "source": [
        "# Our implementation"
      ]
    },
    {
      "cell_type": "code",
      "execution_count": null,
      "metadata": {
        "id": "Ufdud2bNj4yv"
      },
      "outputs": [],
      "source": [
        "class SPECT_SC_Net(torch.nn.Module):\n",
        "    '''\n",
        "    1. Concatenate the spect_proj and proj_mu into a single tensor with two channels\n",
        "    and treat as one input.\n",
        "    2. Design an Encoder-Decoder scheme (Keep the dimensions).\n",
        "        Channel:\n",
        "            3 -> 32 -> 64 -> 128 -> 256 -> 128 -> 64 -> 32 -> 1\n",
        "    '''\n",
        "    def __init__(self):\n",
        "        super().__init__()\n",
        "        self.conv1 = torch.nn.Conv2d(in_channels=3, out_channels=32, kernel_size=3, padding='same', device=DEVICE)\n",
        "        self.conv2 = torch.nn.Conv2d(in_channels=32, out_channels=64, kernel_size=3, padding='same', device=DEVICE)\n",
        "        self.conv3 = torch.nn.Conv2d(in_channels=64, out_channels=128, kernel_size=3, padding='same', device=DEVICE)\n",
        "        self.conv4 = torch.nn.Conv2d(in_channels=128, out_channels=256, kernel_size=3, padding='same', device=DEVICE)\n",
        "        self.conv5 = torch.nn.Conv2d(in_channels=256, out_channels=128, kernel_size=3, padding='same', device=DEVICE)\n",
        "        self.conv6 = torch.nn.Conv2d(in_channels=128, out_channels=64, kernel_size=3, padding='same', device=DEVICE)\n",
        "        self.conv7 = torch.nn.Conv2d(in_channels=64, out_channels=32, kernel_size=3, padding='same', device=DEVICE)\n",
        "        self.conv8 = torch.nn.Conv2d(in_channels=32, out_channels=1, kernel_size=3, padding='same', device=DEVICE)\n",
        "        self.relu = torch.nn.ReLU()\n",
        "\n",
        "    def forward(self, x):\n",
        "        x = self.relu(self.conv1(x))\n",
        "        x = self.relu(self.conv2(x))\n",
        "        x = self.relu(self.conv3(x))\n",
        "        x = self.relu(self.conv4(x))\n",
        "        x = self.relu(self.conv5(x))\n",
        "        x = self.relu(self.conv6(x))\n",
        "        x = self.relu(self.conv7(x))\n",
        "        out = self.relu(self.conv8(x))\n",
        "        return out"
      ]
    },
    {
      "cell_type": "code",
      "execution_count": null,
      "metadata": {
        "id": "cxsvtLSikSVG"
      },
      "outputs": [],
      "source": [
        "class SPECT_SC:\n",
        "    def __init__(self):\n",
        "\n",
        "        # For the model initialization\n",
        "        self.model = SPECT_SC_Net()\n",
        "\n",
        "        # For the data\n",
        "        self.train_mu = None\n",
        "        self.train_tot = None\n",
        "        self.train_sca = None\n",
        "\n",
        "        self.test_mu = None\n",
        "        self.test_tot = None\n",
        "        self.test_sca = None\n",
        "\n",
        "        self.train_inputs_1 = None\n",
        "        self.test_inputs_1 = None\n",
        "\n",
        "        self.N_train = None # 6\n",
        "        self.N_test = None # ?\n",
        "\n",
        "        # For the networks\n",
        "        # self.model = None\n",
        "        self.num_epoch = 800\n",
        "        self.batch_size = 32\n",
        "        self.num_train = 640 # 5 out 6 images for training, 1 for validation\n",
        "        self.lr = 6e-5\n",
        "        self.training_loss_history = []\n",
        "        self.val_loss_history = []\n",
        "        self.mse_test_ls = []\n",
        "        self.num_val = None\n",
        "\n",
        "    def load_data(self, train_file_path, test_file_path):\n",
        "        train_file_names = glob.glob(train_file_path)\n",
        "        test_file_names = glob.glob(test_file_path)\n",
        "\n",
        "        self.N_train = len(train_file_names)\n",
        "        self.N_test = len(test_file_names)\n",
        "\n",
        "        self.train_mu = torch.zeros((Nx, Ny_mea, N_view, self.N_train)).to(DEVICE)  # 128* 80*128*5\n",
        "        self.train_tot = torch.zeros((Nx, Ny_mea, N_view, self.N_train)).to(DEVICE) # 128*128*128*5\n",
        "        self.train_sca = torch.zeros((Nx, Ny_mea, N_view, self.N_train)).to(DEVICE) # 128*128*128*5\n",
        "\n",
        "        self.test_mu = torch.zeros((Nx, Ny_mea, N_view, self.N_test)).to(DEVICE)  # 128* 80*128*?\n",
        "        self.test_tot = torch.zeros((Nx, Ny_mea, N_view, self.N_test)).to(DEVICE) # 128*128*128*?\n",
        "        self.test_sca = torch.zeros((Nx, Ny_mea, N_view, self.N_test)).to(DEVICE) # 128*128*128*?\n",
        "\n",
        "        print(\"---Training data loading---\")\n",
        "        for i in range(self.N_train):\n",
        "            train_data = sio.loadmat(train_file_names[i])\n",
        "            tot = torch.from_numpy(train_data[\"tot\"])\n",
        "            sca = torch.from_numpy(train_data[\"sca\"])\n",
        "            proj_mu = torch.from_numpy(train_data[\"proj_mu\"])\n",
        "            self.train_mu[:,:,:,i] = proj_mu\n",
        "            self.train_tot[:,:,:,i] = tot[:,24:104,:]\n",
        "            self.train_sca[:,:,:,i] = sca[:,24:104,:]\n",
        "            print(i+1, train_file_names[i])\n",
        "        print()\n",
        "\n",
        "        print(\"---Test data loading---\")\n",
        "        for i in range(self.N_test):\n",
        "            test_data = sio.loadmat(test_file_names[i])\n",
        "            tot = torch.from_numpy(test_data[\"tot\"])\n",
        "            sca = torch.from_numpy(test_data[\"sca\"])\n",
        "            proj_mu = torch.from_numpy(test_data[\"proj_mu\"])\n",
        "            self.test_mu[:,:,:,i] = proj_mu\n",
        "            self.test_tot[:,:,:,i] = tot[:,24:104,:]\n",
        "            self.test_sca[:,:,:,i] = sca[:,24:104,:]\n",
        "            print(i+1, test_file_names[i])\n",
        "        print()\n",
        "\n",
        "    def print_dataset_info(self, str):\n",
        "        print(\"---Dataset \" + str + \" info printing---\")\n",
        "        print(\"train_mu.shape:\", self.train_mu.shape)\n",
        "        print(\"train_tot.shape:\", self.train_tot.shape)\n",
        "        print(\"train_sca.shape:\", self.train_sca.shape)\n",
        "\n",
        "        print(\"test_mu.shape:\", self.test_mu.shape)\n",
        "        print(\"test_tot.shape:\", self.test_tot.shape)\n",
        "        print(\"test_sca.shape:\", self.test_sca.shape)\n",
        "\n",
        "        if self.train_inputs_1 is not None:\n",
        "            print(\"train_inputs.shape:\", self.train_inputs_1.shape)\n",
        "            print(\"test_inputs.shape:\", self.test_inputs_1.shape)\n",
        "        print()\n",
        "\n",
        "    def scale_dataset(self):\n",
        "        # Scale training/test data to make simulated and measured data consistent\n",
        "        print(\"---Scaling dataset---\")\n",
        "        self.train_sca = SCALE_CONSTANT * self.train_sca / (torch.sum(self.train_tot, dim=[0,1,2])[None, None, None, :])\n",
        "        self.train_tot = SCALE_CONSTANT * self.train_tot / (torch.sum(self.train_tot, dim=[0,1,2])[None, None, None, :])\n",
        "        self.train_mu = self.train_mu\n",
        "\n",
        "        self.test_sca = SCALE_CONSTANT * self.test_sca / (torch.sum(self.test_tot, dim=[0,1,2])[None, None, None, :])\n",
        "        self.test_tot = SCALE_CONSTANT * self.test_tot / (torch.sum(self.test_tot, dim=[0,1,2])[None, None, None, :])\n",
        "        self.test_mu = self.test_mu\n",
        "        print()\n",
        "\n",
        "    def reshape_dataset(self):\n",
        "        # self.train_tot = torch.reshape(self.train_tot, [Nx, Ny_mea, N_view * self.N_train])\n",
        "        self.train_tot = torch.cat([self.train_tot[:,:,:,nv] for nv in range(self.N_train)], dim=2)\n",
        "        self.train_tot = torch.permute(self.train_tot, [2, 0, 1])[:,None,:,:] # (128*N_train, 1, 128, 80)\n",
        "        self.train_sca = torch.cat([self.train_sca[:,:,:,nv] for nv in range(self.N_train)], dim=2)\n",
        "        self.train_sca = torch.permute(self.train_sca, [2, 0, 1])[:,None,:,:] # (128*N_train, 1, 128, 80)\n",
        "        self.train_mu = torch.cat([self.train_mu[:,:,:,nv] for nv in range(self.N_train)], dim=2)\n",
        "        self.train_mu = torch.permute(self.train_mu, [2, 0, 1])[:,None,:,:] # (128*N_train, 1, 128, 80)\n",
        "\n",
        "        self.test_tot = torch.cat([self.test_tot[:,:,:,nv] for nv in range(self.N_test)], dim=2)\n",
        "        self.test_tot = torch.permute(self.test_tot, [2, 0, 1])[:,None,:,:] # (128*N_test, 1, 128, 80)\n",
        "        self.test_sca = torch.cat([self.test_sca[:,:,:,nv] for nv in range(self.N_test)], dim=2)\n",
        "        self.test_sca = torch.permute(self.test_sca, [2, 0, 1])[:,None,:,:] # (128*N_test, 1, 128, 80)\n",
        "        self.test_mu = torch.cat([self.test_mu[:,:,:,nv] for nv in range(self.N_test)], dim=2)\n",
        "        self.test_mu = torch.permute(self.test_mu, [2, 0, 1])[:,None,:,:] # (128*N_test, 1, 128, 80)\n",
        "\n",
        "        train_tot_2 = torch.zeros_like(self.train_tot)\n",
        "        test_tot_2 = torch.zeros_like(self.test_tot)\n",
        "\n",
        "        for n in range(self.N_train):\n",
        "            low_idx = n * N_view # 0, 128, 256, ...\n",
        "            train_tot_2[(64+low_idx):(128+low_idx),:,:,:] = self.train_tot[(0+low_idx):(64+low_idx),:,:,:]\n",
        "            train_tot_2[(0+low_idx):(64+low_idx),:,:,:] = self.train_tot[(64+low_idx):(128+low_idx),:,:,:]\n",
        "            # train_tot_2.size() : (896, 1, 128, 80)\n",
        "        for n in range(self.N_test):\n",
        "            low_idx = n * N_view # 0\n",
        "            test_tot_2[(64+low_idx):(128+low_idx),:,:,:] = self.test_tot[(0+low_idx):(64+low_idx),:,:,:]\n",
        "            test_tot_2[(0+low_idx):(64+low_idx),:,:,:] = self.test_tot[(64+low_idx):(128+low_idx),:,:,:]\n",
        "\n",
        "        # Flip the image by the middle axis\n",
        "        for n in range(self.N_train * N_view): # 896\n",
        "            # flip_image(train_tot_2[n,0,:,:])\n",
        "            for m in range(64):\n",
        "                tmp = train_tot_2[n,0,m,:].clone()\n",
        "                train_tot_2[n,0,m,:] = train_tot_2[n,0,127-m,:]\n",
        "                train_tot_2[n,0,127-m,:] = tmp\n",
        "\n",
        "        for n in range(self.N_test * N_view):\n",
        "            for m in range(64):\n",
        "                tmp = test_tot_2[n,0,m,:].clone()\n",
        "                test_tot_2[n,0,m,:] = test_tot_2[n,0,127-m,:]\n",
        "                test_tot_2[n,0,127-m,:] = tmp\n",
        "\n",
        "        self.train_inputs_1 = torch.squeeze(torch.stack([self.train_tot, train_tot_2, self.train_mu], dim=1)) # (896, 3, 128, 80)\n",
        "        self.test_inputs_1 = torch.squeeze(torch.stack([self.test_tot, test_tot_2, self.test_mu], dim=1)) # (128, 3, 128, 80)\n",
        "\n",
        "    def data_preprocess(self, train_file_path, test_file_path):\n",
        "        self.load_data(train_file_path, test_file_path)\n",
        "        self.print_dataset_info(\"(raw)\")\n",
        "        self.scale_dataset()\n",
        "        self.reshape_dataset()\n",
        "        self.print_dataset_info(\"(processed)\")\n",
        "\n",
        "    def plot_projection_train_data(self, k=9):\n",
        "        plt.style.use(\"default\")\n",
        "        fig, (ax1, ax2,ax3) = plt.subplots(ncols=3, figsize=(15, 10))\n",
        "        im1 = ax1.imshow(np.transpose(self.train_sca[k,0,:,:].cpu()), cmap = 'jet', vmin = 0, vmax = torch.max(self.train_tot[k,0,:,:]))\n",
        "        ax1.set_title('Scatter',fontsize = 20)\n",
        "\n",
        "        im2 = ax2.imshow(np.transpose(self.train_tot[k,0,:,:].cpu()), cmap = 'jet', vmin = 0, vmax = torch.max(self.train_tot[k,0,:,:]))\n",
        "        ax2.set_title('Total', fontsize = 20)\n",
        "\n",
        "        im3 = ax3.imshow(np.transpose(self.train_mu[k,0,:,:].cpu()), cmap = 'jet', vmin = 0, vmax = torch.max(self.train_mu[k,0,:,:]))\n",
        "        ax3.set_title('mu-map', fontsize = 20)\n",
        "\n",
        "        fig.subplots_adjust(right=0.8)\n",
        "        cbar_ax = fig.add_axes([0.85, 0.35, 0.03, 0.3])\n",
        "        fig.colorbar(im2, cax=cbar_ax)\n",
        "\n",
        "    def plot_projection_test_data(self, k=80):\n",
        "        plt.style.use(\"default\")\n",
        "        fig, (ax1, ax2, ax3) = plt.subplots(ncols=3, figsize=(15, 10))\n",
        "        im1 = ax1.imshow(np.transpose(self.test_sca[k,0,:,:].cpu()), cmap = 'jet', vmin = 0, vmax = torch.max(self.test_tot[k,0,:,:]))\n",
        "        ax1.set_title('Scatter',fontsize = 20)\n",
        "\n",
        "        im2 = ax2.imshow(np.transpose(self.test_tot[k,0,:,:].cpu()), cmap = 'jet', vmin = 0, vmax = torch.max(self.test_tot[k,0,:,:]))\n",
        "        ax2.set_title('Total', fontsize = 20)\n",
        "\n",
        "        im3 = ax3.imshow(np.transpose(self.test_mu[k,0,:,:].cpu()), cmap = 'jet', vmin = 0, vmax = torch.max(self.test_mu[k,0,:,:]))\n",
        "        ax3.set_title('mu-map', fontsize = 20)\n",
        "\n",
        "        fig.subplots_adjust(right=0.8)\n",
        "        cbar_ax = fig.add_axes([0.85, 0.35, 0.03, 0.3])\n",
        "        fig.colorbar(im2, cax=cbar_ax)\n",
        "\n",
        "    def save_checkpoint(self, state):\n",
        "        best_file_path = os.path.join(GOOGLE_DRIVE_PATH, 'SPECT_SC_best_checkpoint.pth')\n",
        "        torch.save(state, best_file_path)\n",
        "\n",
        "    def model_initialize(self):\n",
        "        self.model = SPECT_SC_Net()\n",
        "        for p in self.model.parameters():\n",
        "            torch.nn.init.normal_(p,std=0.001)\n",
        "\n",
        "    def train(self):\n",
        "        torch.manual_seed(2022)\n",
        "        self.model_initialize() # Initialize a new model\n",
        "\n",
        "        self.num_val = self.train_tot.size(0) - self.num_train\n",
        "        train_loader = DataLoader(TensorDataset(self.train_inputs_1[idx_train,:,:,:],\n",
        "                                                self.train_sca[idx_train,:,:,:]),\n",
        "                                  batch_size=self.batch_size, shuffle=True)\n",
        "        val_loader = DataLoader(TensorDataset(self.train_inputs_1[idx_val,:,:,:],\n",
        "                                              self.train_sca[idx_val,:,:,:]),\n",
        "                                  batch_size=self.batch_size, shuffle=True)\n",
        "        optimizer = torch.optim.Adam(self.model.parameters(), lr=self.lr)\n",
        "        self.training_loss_history = []\n",
        "        self.val_loss_history = []\n",
        "\n",
        "        start_time = time.time()\n",
        "        best_val_loss = np.inf\n",
        "\n",
        "        for epoch in tqdm.tqdm_notebook(range(self.num_epoch)):\n",
        "            training_loss_acc = 0\n",
        "            val_loss_acc = 0\n",
        "\n",
        "            for _, training_data in enumerate(train_loader, 0):\n",
        "                inputs_batch, sca_batch = training_data\n",
        "                sca_pred = self.model(inputs_batch)\n",
        "\n",
        "                optimizer.zero_grad()\n",
        "\n",
        "                loss = F.mse_loss(sca_pred, sca_batch)\n",
        "                loss.backward()\n",
        "                optimizer.step()\n",
        "                training_loss_acc += loss.detach().item()\n",
        "\n",
        "            self.training_loss_history.append(math.sqrt(training_loss_acc) / self.num_train)\n",
        "\n",
        "            with torch.no_grad():\n",
        "                for _,val_data in enumerate(val_loader, 0):\n",
        "                    inputs_batch_val, sca_batch_val = val_data\n",
        "                    sca_pred_val = self.model(inputs_batch_val)\n",
        "                    loss_val = F.mse_loss(sca_pred_val, sca_batch_val)\n",
        "                    val_loss_acc += loss_val.item()\n",
        "\n",
        "            self.val_loss_history.append(math.sqrt(val_loss_acc) / self.num_val)\n",
        "\n",
        "            print(\"Epoch {}, training loss {:3f}, val loss {:3f}\".format(epoch+1, self.training_loss_history[-1], self.val_loss_history[-1]), end=' ')\n",
        "\n",
        "            if self.val_loss_history[-1] < best_val_loss:\n",
        "                # save this model!\n",
        "                print(\" Oh! Best validation performance! Save the current model!\")\n",
        "                self.save_checkpoint(self.model.state_dict())\n",
        "                best_val_loss = self.val_loss_history[-1]\n",
        "            else:\n",
        "                print()\n",
        "\n",
        "        end_time = time.time()\n",
        "        total_time = end_time - start_time\n",
        "        print(\"Total time used: {:3f}\".format(total_time))\n",
        "\n",
        "    def load_model(self, file_name:str):\n",
        "        if file_name in os.listdir(GOOGLE_DRIVE_PATH):\n",
        "            load_PATH = os.path.join(GOOGLE_DRIVE_PATH, file_name)\n",
        "            self.model.load_state_dict(torch.load(load_PATH))\n",
        "        else:\n",
        "            print(\"Model not found!\")\n",
        "\n",
        "    def plot_learning_curve(self, num_crop=15):\n",
        "        # Crop the first several huge loss for better view\n",
        "        N_step = int(self.num_train / self.num_val) # = 6\n",
        "        training_loss_history_crop = self.training_loss_history[0:-1:N_step][num_crop:]\n",
        "        val_loss_history_crop = self.val_loss_history[0:-1][num_crop:]\n",
        "        x_t = range(len(training_loss_history_crop))\n",
        "        x_v = range(len(val_loss_history_crop))\n",
        "\n",
        "        plt.plot(x_t, training_loss_history_crop, label=\"training loss\")\n",
        "        plt.plot(x_v, val_loss_history_crop, label=\"validation loss\")\n",
        "        plt.legend(['Training_loss', 'Validation_loss'])\n",
        "\n",
        "    def run_test(self):\n",
        "        test_loader = DataLoader(TensorDataset(self.test_inputs_1, self.test_sca),\n",
        "                                               batch_size=self.batch_size)\n",
        "        sca_pred_test = torch.ones(1,1,128,80).to(DEVICE)\n",
        "        mse_test_ls = []\n",
        "        with torch.no_grad():\n",
        "            for _,test_data in enumerate(test_loader, 0):\n",
        "                inputs_batch_test, sca_batch_test = test_data\n",
        "                sca_pred = self.model(inputs_batch_test)\n",
        "                sca_pred_test = torch.cat([sca_pred_test, sca_pred], dim=0)\n",
        "\n",
        "                mse_test = torch.nn.functional.mse_loss(sca_pred, sca_batch_test)\n",
        "                self.mse_test_ls.append(mse_test.item())\n",
        "            sca_pred_test = sca_pred_test[1:,:,:,:]\n",
        "        return sca_pred_test\n",
        "\n",
        "    def plot_projection_test(self, x:torch.Tensor(), k:int):\n",
        "        \"\"\"\n",
        "        Plots scatter patterns of the certain TEST case.\n",
        "\n",
        "            Parameters:\n",
        "                x (torch.Tensor()): The reshaped output of the CNN. (2D)\n",
        "                s (SPECT_DATASET()): The object that contains the original data.\n",
        "                k (int): The number of the test data slice.\n",
        "        \"\"\"\n",
        "        plt.style.use(\"default\")\n",
        "        fig, (ax1, ax2, ax3) = plt.subplots(ncols=3, figsize=(15, 10))\n",
        "        im1 = ax1.imshow(np.transpose(x.cpu()), cmap='jet', vmin=0, vmax=torch.max(self.test_tot[k,0,:,:]))\n",
        "        ax1.set_title('CNN Scatter',fontsize=20)\n",
        "\n",
        "        im2 = ax2.imshow(np.transpose(self.test_sca[k,0,:,:].cpu()), cmap='jet', vmin=0, vmax=torch.max(self.test_tot[k,0,:,:]))\n",
        "        ax2.set_title('True Scatter', fontsize=20)\n",
        "\n",
        "        im3 = ax3.imshow(np.transpose(self.test_tot[k,0,:,:].cpu()), cmap='jet', vmin=0, vmax=torch.max(self.test_tot[k,0,:,:]))\n",
        "        ax3.set_title('Total', fontsize=20)\n",
        "\n",
        "        fig.subplots_adjust(right=0.8)\n",
        "        cbar_ax = fig.add_axes([0.85, 0.35, 0.03, 0.3])\n",
        "        fig.colorbar(im1, cax=cbar_ax)\n",
        "\n",
        "    def test_and_plot_k(self, k:int):\n",
        "        \"\"\"\n",
        "        Predict the CNN scatter with the trained model and make a plot.\n",
        "\n",
        "            Parameters:\n",
        "                s (SPECT_DATASET()): The object that contains the original data.\n",
        "                k (int): The number of the test data slice.\n",
        "        \"\"\"\n",
        "        with torch.no_grad():\n",
        "            test_img = self.model(self.test_inputs_1[k,:,:,:][None,:,:,:])\n",
        "\n",
        "        self.plot_projection_test(test_img[0,0,:,:], k)"
      ]
    },
    {
      "cell_type": "code",
      "execution_count": null,
      "metadata": {
        "id": "W5B6GSWJnOmo"
      },
      "outputs": [],
      "source": [
        "train_file_path = os.path.join(GOOGLE_DRIVE_PATH, 'dataset/train/*.mat')\n",
        "test_file_path = os.path.join(GOOGLE_DRIVE_PATH, 'dataset/test/*.mat')\n",
        "\n",
        "s = SPECT_SC()\n",
        "s.data_preprocess(train_file_path, test_file_path)"
      ]
    },
    {
      "cell_type": "code",
      "execution_count": null,
      "metadata": {
        "id": "CCs0WSMwnvco"
      },
      "outputs": [],
      "source": [
        "s.train()"
      ]
    },
    {
      "cell_type": "code",
      "execution_count": null,
      "metadata": {
        "colab": {
          "base_uri": "https://localhost:8080/",
          "height": 609
        },
        "id": "19F60dAPrgQf",
        "outputId": "0a363541-6423-4070-dd46-5f5f576278ed"
      },
      "outputs": [
        {
          "data": {
            "text/plain": [
              "[<matplotlib.lines.Line2D at 0x7f499cfee1f0>]"
            ]
          },
          "execution_count": 171,
          "metadata": {},
          "output_type": "execute_result"
        },
        {
          "data": {
            "image/png": "[encoded data removed]",
            "text/plain": [
              "<Figure size 1080x720 with 1 Axes>"
            ]
          },
          "metadata": {
            "needs_background": "light"
          },
          "output_type": "display_data"
        }
      ],
      "source": [
        "train_ls = s.training_loss_history\n",
        "val_ls = s.val_loss_history\n",
        "plt.plot(range(len(train_ls)), train_ls)\n",
        "plt.plot(range(len(train_ls)), val_ls)"
      ]
    },
    {
      "cell_type": "markdown",
      "metadata": {
        "id": "DiUDqGa0pf-c"
      },
      "source": [
        "# Test Performance"
      ]
    },
    {
      "cell_type": "code",
      "execution_count": null,
      "metadata": {
        "colab": {
          "base_uri": "https://localhost:8080/"
        },
        "id": "5b5LLAZApfsg",
        "outputId": "d1255092-2b8e-4a05-b92b-a6b33656d1d5"
      },
      "outputs": [
        {
          "name": "stdout",
          "output_type": "stream",
          "text": [
            "tensor(0.0072, device='cuda:0')\n",
            "tensor(0.0026, device='cuda:0')\n"
          ]
        }
      ],
      "source": [
        "# Old values\n",
        "# sca_pred_our = s.run_test()\n",
        "sca_pred_HW = spect_cnn_sc_hw.run_test(s_0)\n",
        "\n",
        "# mse_our = torch.nn.functional.mse_loss(sca_pred_our, s.test_sca)\n",
        "mse_hw = torch.nn.functional.mse_loss(sca_pred_HW, s_0.test_sca)\n",
        "# den = torch.sum()\n",
        "\n",
        "# print(mse_our)\n",
        "print(mse_hw)"
      ]
    },
    {
      "cell_type": "code",
      "execution_count": null,
      "metadata": {
        "colab": {
          "base_uri": "https://localhost:8080/"
        },
        "id": "KPMWpOSP72dJ",
        "outputId": "cf3f5f1e-66a3-43d4-ca4b-4f4cc2e7778f"
      },
      "outputs": [
        {
          "name": "stdout",
          "output_type": "stream",
          "text": [
            "tensor(0.0022, device='cuda:0')\n"
          ]
        }
      ],
      "source": [
        "# New values\n",
        "# sca_pred_our = s.run_test()\n",
        "spect_cnn_sc_hw.load_model('HW_CNN_best_checkpoint.pth')\n",
        "sca_pred_HW = spect_cnn_sc_hw.run_test(s_0)\n",
        "\n",
        "# mse_our = torch.nn.functional.mse_loss(sca_pred_our, s.test_sca)\n",
        "mse_hw = torch.nn.functional.mse_loss(sca_pred_HW, s_0.test_sca)\n",
        "# den = torch.sum()\n",
        "\n",
        "# print(mse_our)\n",
        "print(mse_hw)"
      ]
    },
    {
      "cell_type": "code",
      "execution_count": null,
      "metadata": {
        "colab": {
          "base_uri": "https://localhost:8080/"
        },
        "id": "F4Ir13vJ8GSj",
        "outputId": "b63e5d4f-613a-4e4d-ca98-387ac8f93722"
      },
      "outputs": [
        {
          "name": "stdout",
          "output_type": "stream",
          "text": [
            "NRMSE in Projection Domain:  3.7006258964538574%\n"
          ]
        }
      ],
      "source": [
        "# NRMSE in Projection Domain\n",
        "err = sca_pred_HW - s_0.test_sca\n",
        "err_num = torch.sqrt(torch.sum(torch.square(err)))\n",
        "err_de = torch.sqrt(torch.sum(torch.square(s_0.test_sca)))\n",
        "print('NRMSE in Projection Domain: ', str((err_num/err_de).item()*100) + '%')"
      ]
    },
    {
      "cell_type": "code",
      "execution_count": null,
      "metadata": {
        "colab": {
          "base_uri": "https://localhost:8080/"
        },
        "id": "io2GsNNu3Bf9",
        "outputId": "ccb578e7-1dca-43f8-d0e9-aab61cedd2eb"
      },
      "outputs": [
        {
          "name": "stdout",
          "output_type": "stream",
          "text": [
            "tensor(0.0415, device='cuda:0')\n"
          ]
        }
      ],
      "source": [
        "# Old NRMSE in Projection Domain\n",
        "err = sca_pred_HW - s_0.test_sca\n",
        "err_num = torch.sqrt(torch.sum(torch.square(err)))\n",
        "err_de = torch.sqrt(torch.sum(torch.square(s_0.test_sca)))\n",
        "print(err_num/err_de)"
      ]
    },
    {
      "cell_type": "code",
      "execution_count": null,
      "metadata": {
        "colab": {
          "base_uri": "https://localhost:8080/"
        },
        "id": "TV7QCF_o-aVT",
        "outputId": "e09722b2-6f05-44ba-a2e7-750f335b816d"
      },
      "outputs": [
        {
          "name": "stdout",
          "output_type": "stream",
          "text": [
            "(128, 80, 1792)\n",
            "(128, 80, 128, 14)\n"
          ]
        }
      ],
      "source": [
        "sca_pred_np = sca_pred_HW.squeeze().permute(1,2,0).cpu().numpy()\n",
        "print(sca_pred_np.shape)\n",
        "pred_mat = sca_pred_np.reshape(128,80,128,s_0.N_test) # Reshape!!!!!!!! Otherwise, the plots are not in order of views\n",
        "print(pred_mat.shape)"
      ]
    },
    {
      "cell_type": "code",
      "execution_count": null,
      "metadata": {
        "colab": {
          "base_uri": "https://localhost:8080/"
        },
        "id": "aO9GNhdjCI0m",
        "outputId": "c8a7b3aa-b569-46a1-a963-3727f339d9a2"
      },
      "outputs": [],
      "source": [
        "# if we test the network with the training dataset...\n",
        "train_file_path2 = os.path.join(GOOGLE_DRIVE_PATH, 'dataset/train/*.mat')\n",
        "test_file_path2 = os.path.join(GOOGLE_DRIVE_PATH, 'dataset/train/*.mat')\n",
        "\n",
        "s_n = SPECT_DATASET_NON_UNIF()\n",
        "s_n.data_preprocess(train_file_path2, test_file_path2)\n",
        "\n",
        "spect_cnn_sc_hw2 = SPECT_CNN_SC_HW()\n",
        "spect_cnn_sc_hw2.load_model(\"HW_CNN_best_checkpoint.pth\")"
      ]
    },
    {
      "cell_type": "code",
      "execution_count": null,
      "metadata": {
        "colab": {
          "base_uri": "https://localhost:8080/"
        },
        "id": "lTnkWYtMEDuu",
        "outputId": "82b83058-da56-410a-c6ad-e1e4ad907608"
      },
      "outputs": [
        {
          "name": "stdout",
          "output_type": "stream",
          "text": [
            "tensor(0.0193, device='cuda:0')\n"
          ]
        }
      ],
      "source": [
        "sca_pred2 = spect_cnn_sc_hw2.run_test(s_n)\n",
        "\n",
        "err2 = sca_pred2 - s_n.test_sca\n",
        "err_num2 = torch.sqrt(torch.sum(torch.square(err2)))\n",
        "err_de2 = torch.sqrt(torch.sum(torch.square(s_n.test_sca)))\n",
        "print(err_num2/err_de2)"
      ]
    },
    {
      "cell_type": "markdown",
      "metadata": {
        "id": "mIyCiFNiRnD6"
      },
      "source": [
        "# Test One By One"
      ]
    },
    {
      "cell_type": "code",
      "execution_count": null,
      "metadata": {
        "colab": {
          "base_uri": "https://localhost:8080/"
        },
        "id": "QHACR4lJRpxS",
        "outputId": "bcfd229b-2f56-4709-f2b3-1120835b34a3"
      },
      "outputs": [],
      "source": [
        "train_file_path = os.path.join(GOOGLE_DRIVE_PATH, 'dataset/train/*.csv')\n",
        "test_file_path = os.path.join(GOOGLE_DRIVE_PATH, 'dataset/test_real_patient_2/*di*')\n",
        "\n",
        "s_t = SPECT_DATASET_NON_UNIF()\n",
        "s_t.data_preprocess(train_file_path, test_file_path)\n",
        "\n",
        "spect_cnn_sc_hw_t = SPECT_CNN_SC_HW()\n",
        "spect_cnn_sc_hw_t.load_model(\"HW_CNN_best_checkpoint.pth\")\n",
        "sca_pred = spect_cnn_sc_hw_t.run_test(s_t)\n",
        "print(sca_pred.shape)\n",
        "\n",
        "sca_pred_np = sca_pred.squeeze().permute(1,2,0).cpu().numpy()\n",
        "print(sca_pred_np.shape)\n",
        "\n",
        "sio.savemat('y90resth8054_pred_sca.mat', {'sca':sca_pred_np}, do_compression=True)"
      ]
    },
    {
      "cell_type": "code",
      "execution_count": null,
      "metadata": {
        "colab": {
          "base_uri": "https://localhost:8080/",
          "height": 345
        },
        "id": "tzZIyuRBTGyM",
        "outputId": "2fc12747-f49c-4c67-cae0-e8f649521e9b"
      },
      "outputs": [
        {
          "data": {
            "image/png": "[encoded data removed]",
            "text/plain": [
              "<Figure size 1500x1000 with 4 Axes>"
            ]
          },
          "metadata": {},
          "output_type": "display_data"
        }
      ],
      "source": [
        "spect_cnn_sc_hw_t.test_and_plot_k(s_t, 50) # real patient, do not have true scatter"
      ]
    }
  ],
  "metadata": {
    "accelerator": "GPU",
    "colab": {
      "collapsed_sections": [
        "gVtlP4UyjrGC"
      ],
      "gpuClass": "premium",
      "machine_shape": "hm",
      "provenance": []
    },
    "gpuClass": "premium",
    "kernelspec": {
      "display_name": "Python 3",
      "name": "python3"
    },
    "language_info": {
      "name": "python"
    }
  },
  "nbformat": 4,
  "nbformat_minor": 0
}
